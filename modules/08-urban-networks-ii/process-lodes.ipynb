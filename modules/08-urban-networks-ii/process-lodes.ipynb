{
 "cells": [
  {
   "cell_type": "markdown",
   "id": "sealed-trinity",
   "metadata": {},
   "source": [
    "This notebook merges LODES home/work locations with census blocks to get home/work lat-lng block coordinates.\n",
    "\n",
    "Data sources:\n",
    "  - 2018 LEHD LODES: https://lehd.ces.census.gov/data/\n",
    "  - 2020 Census blocks: https://www2.census.gov/geo/tiger/TIGER2020/"
   ]
  },
  {
   "cell_type": "code",
   "execution_count": null,
   "id": "loved-mitchell",
   "metadata": {},
   "outputs": [],
   "source": [
    "import geopandas as gpd\n",
    "import osmnx as ox\n",
    "import pandas as pd\n",
    "from shapely.geometry import Point"
   ]
  },
  {
   "cell_type": "markdown",
   "id": "lesser-vehicle",
   "metadata": {},
   "source": [
    "## Get all census blocks within some study site"
   ]
  },
  {
   "cell_type": "code",
   "execution_count": null,
   "id": "improved-determination",
   "metadata": {},
   "outputs": [],
   "source": [
    "# create a study site (copied code from lecture notebook)\n",
    "latlng_coords = ox.geocode('Los Angeles City Hall')\n",
    "latlng_point = Point(latlng_coords[1], latlng_coords[0])\n",
    "latlng_point_proj, crs = ox.projection.project_geometry(latlng_point)\n",
    "polygon_proj = latlng_point_proj.buffer(5000)\n",
    "polygon, crs = ox.projection.project_geometry(polygon_proj, crs=crs, to_latlong=True)"
   ]
  },
  {
   "cell_type": "code",
   "execution_count": null,
   "id": "loving-latitude",
   "metadata": {},
   "outputs": [],
   "source": [
    "# load CA census blocks shapefile\n",
    "gdf_blocks = gpd.read_file('../../data/tl_2020_06_tabblock20/').set_index('GEOID20')\n",
    "gdf_blocks.shape"
   ]
  },
  {
   "cell_type": "code",
   "execution_count": null,
   "id": "choice-brook",
   "metadata": {},
   "outputs": [],
   "source": [
    "# get all blocks that intersect the study site polygon\n",
    "study_site_blocks = gdf_blocks[gdf_blocks.intersects(polygon)]\n",
    "study_site_blocks.shape"
   ]
  },
  {
   "cell_type": "markdown",
   "id": "collected-speaking",
   "metadata": {},
   "source": [
    "## Get all LODES with both home and work in study site"
   ]
  },
  {
   "cell_type": "code",
   "execution_count": null,
   "id": "varied-happening",
   "metadata": {},
   "outputs": [],
   "source": [
    "# load CA LODES\n",
    "df = pd.read_csv('../../data/lodes/ca_od_main_JT00_2018.csv',\n",
    "                 dtype={'w_geocode': str, 'h_geocode': str})\n",
    "df.shape"
   ]
  },
  {
   "cell_type": "code",
   "execution_count": null,
   "id": "crucial-commonwealth",
   "metadata": {},
   "outputs": [],
   "source": [
    "# get all LODES rows in study site blocks\n",
    "mask_h = df['h_geocode'].isin(study_site_blocks.index)\n",
    "mask_w = df['w_geocode'].isin(study_site_blocks.index)\n",
    "study_site_lodes = df[mask_h & mask_w]\n",
    "study_site_lodes.shape"
   ]
  },
  {
   "cell_type": "markdown",
   "id": "dynamic-softball",
   "metadata": {},
   "source": [
    "## Merge the data, save to disk"
   ]
  },
  {
   "cell_type": "code",
   "execution_count": null,
   "id": "aware-chocolate",
   "metadata": {},
   "outputs": [],
   "source": [
    "# retain the columns we want\n",
    "block_trips = study_site_lodes[['h_geocode', 'w_geocode', 'S000']]\n",
    "block_latlng = study_site_blocks[['INTPTLAT20', 'INTPTLON20']].astype(float)"
   ]
  },
  {
   "cell_type": "code",
   "execution_count": null,
   "id": "virtual-student",
   "metadata": {},
   "outputs": [],
   "source": [
    "# merge in home lat-lng\n",
    "od = pd.merge(left=block_trips,\n",
    "              right=block_latlng,\n",
    "              left_on='h_geocode',\n",
    "              right_index=True,\n",
    "              how='inner')\n",
    "\n",
    "# merge in work lat-lng\n",
    "od = pd.merge(left=od,\n",
    "              right=block_latlng,\n",
    "              left_on='w_geocode',\n",
    "              right_index=True,\n",
    "              suffixes=['_home', '_work'],\n",
    "              how='inner')\n",
    "od.shape"
   ]
  },
  {
   "cell_type": "code",
   "execution_count": null,
   "id": "finished-mainstream",
   "metadata": {},
   "outputs": [],
   "source": [
    "# rename columns then save to disk\n",
    "cols = {'h_geocode': 'home_block',\n",
    "        'w_geocode': 'work_block',\n",
    "        'S000': 'job_count',\n",
    "        'INTPTLAT20_home': 'home_lat',\n",
    "        'INTPTLON20_home': 'home_lng',\n",
    "        'INTPTLAT20_work': 'work_lat',\n",
    "        'INTPTLON20_work': 'work_lng'}\n",
    "\n",
    "od = od.rename(columns=cols)\n",
    "od.to_csv('../../data/od.csv', index=False)"
   ]
  },
  {
   "cell_type": "code",
   "execution_count": null,
   "id": "complicated-animal",
   "metadata": {},
   "outputs": [],
   "source": [
    "# see the final results\n",
    "od"
   ]
  }
 ],
 "metadata": {
  "kernelspec": {
   "display_name": "Python (ppd599)",
   "language": "python",
   "name": "ppd599"
  },
  "language_info": {
   "codemirror_mode": {
    "name": "ipython",
    "version": 3
   },
   "file_extension": ".py",
   "mimetype": "text/x-python",
   "name": "python",
   "nbconvert_exporter": "python",
   "pygments_lexer": "ipython3",
   "version": "3.7.10"
  }
 },
 "nbformat": 4,
 "nbformat_minor": 5
}
