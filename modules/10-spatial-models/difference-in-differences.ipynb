{
 "cells": [
  {
   "cell_type": "markdown",
   "metadata": {},
   "source": [
    "# Difference-in-differences\n",
    "\n",
    "Difference-in-differences (DiD) is a quasi-experimental statistical method common in econometrics that uses data from an observational study to approximate a natural experiment with treatment/control groups and observations before and after some \"treatment\" of interest. It estimates the *effect* of a predictor (the treatment) on the response. DiD can help mitigate selection biases but could still suffer from endogeneity problems like a confounding omitted variable or simultaneity. The usual OLS assumptions apply.\n",
    "\n",
    "This example assumes you have 80 census tracts: 40 in a control group and 40 in a treatment group. A new policy was implemented in the treatment group in 2017 and we want to test its effect on rents. For each tract, we have median rent/sqft at two time points: pre-treatment (2014) and post-treatment (2020). We assign randomized values to generate data accordingly.\n",
    "\n",
    "We do not control for spatial diffusion of the policy effect in this example: after working through the example, set up the DiD with controls for spatial diffusion as individual exercise."
   ]
  },
  {
   "cell_type": "code",
   "execution_count": null,
   "metadata": {},
   "outputs": [],
   "source": [
    "import numpy as np\n",
    "import pandas as pd\n",
    "import statsmodels.api as sm\n",
    "np.random.seed(0) #for recomputability"
   ]
  },
  {
   "cell_type": "markdown",
   "metadata": {},
   "source": [
    "## Set up fake random observations\n",
    "\n",
    "Let's say there are 40 tracts apiece in the treatment and control groups."
   ]
  },
  {
   "cell_type": "code",
   "execution_count": null,
   "metadata": {},
   "outputs": [],
   "source": [
    "n = 40\n",
    "tract_ids = np.arange(n * 2)\n",
    "treat_tract_ids = tract_ids[:n]\n",
    "cntrl_tract_ids = tract_ids[n:]"
   ]
  },
  {
   "cell_type": "code",
   "execution_count": null,
   "metadata": {},
   "outputs": [],
   "source": [
    "# random data across 4 groups: treatment/control and pre/post event\n",
    "treat_pre = np.random.normal(loc=1.2, scale=0.2, size=n)\n",
    "treat_pst = np.random.normal(loc=2.0, scale=0.2, size=n)\n",
    "cntrl_pre = np.random.normal(loc=1.0, scale=0.2, size=n)\n",
    "cntrl_pst = np.random.normal(loc=1.5, scale=0.2, size=n)"
   ]
  },
  {
   "cell_type": "markdown",
   "metadata": {},
   "source": [
    "## Assemble dataset from the observations\n",
    "\n",
    "Create 4 DataFrames representing treatment/pre, treatment/post, control/pre, control/post, and then concatenate them into a single DataFrame containing all the data.\n",
    "\n",
    "Let `time = 0` if 2014 (pre-event) and 1 if 2020 (post-event).\n",
    "\n",
    "Let `group = 0` if control and 1 if treatment."
   ]
  },
  {
   "cell_type": "code",
   "execution_count": null,
   "metadata": {},
   "outputs": [],
   "source": [
    "df_treat_pre = pd.DataFrame(data={'tract_id': treat_tract_ids,\n",
    "                                  'tract_median_rent_sqft': treat_pre,\n",
    "                                  'time': 0,\n",
    "                                  'group': 1})\n",
    "df_treat_pst = pd.DataFrame(data={'tract_id': treat_tract_ids,\n",
    "                                  'tract_median_rent_sqft': treat_pst,\n",
    "                                  'time': 1,\n",
    "                                  'group': 1})\n",
    "df_cntrl_pre = pd.DataFrame(data={'tract_id': cntrl_tract_ids,\n",
    "                                  'tract_median_rent_sqft': cntrl_pre,\n",
    "                                  'time': 0,\n",
    "                                  'group': 0})\n",
    "df_cntrl_pst = pd.DataFrame(data={'tract_id': cntrl_tract_ids,\n",
    "                                  'tract_median_rent_sqft': cntrl_pst,\n",
    "                                  'time': 1,\n",
    "                                  'group': 0})\n",
    "df = pd.concat([df_treat_pre, df_treat_pst, df_cntrl_pre, df_cntrl_pst]).reset_index(drop=True)"
   ]
  },
  {
   "cell_type": "code",
   "execution_count": null,
   "metadata": {},
   "outputs": [],
   "source": [
    "# create our DiD interaction dummy variable of interest:\n",
    "# 1 if is treatment group AND post-event, otherwise 0\n",
    "df['post_treatment'] = df['time'] * df['group']\n",
    "\n",
    "# add a couple random covariates\n",
    "df['num_bedrooms'] = np.random.normal(loc=2, scale=0.3, size=len(df))\n",
    "df['dist_to_transit'] = np.random.normal(loc=500, scale=200, size=len(df))"
   ]
  },
  {
   "cell_type": "code",
   "execution_count": null,
   "metadata": {},
   "outputs": [],
   "source": [
    "# show a random sample of the assembled dataset\n",
    "print(df.shape)\n",
    "df.sample(10)"
   ]
  },
  {
   "cell_type": "markdown",
   "metadata": {},
   "source": [
    "## Regression analysis\n",
    "\n",
    "The estimated DiD effect is the coefficient on the `post_treatment` variable."
   ]
  },
  {
   "cell_type": "code",
   "execution_count": null,
   "metadata": {},
   "outputs": [],
   "source": [
    "# choose a response and predictors\n",
    "response = 'tract_median_rent_sqft'\n",
    "predictors = ['time', 'group', 'post_treatment']\n",
    "\n",
    "# filter full dataset to retain only these columns and only rows without nulls in these columns\n",
    "data = df[[response] +  predictors].dropna()\n",
    "\n",
    "# create design matrix and response vector\n",
    "X = data[predictors]\n",
    "y = data[response]\n",
    "\n",
    "# estimate a simple linear regression model with OLS, using statsmodels\n",
    "model = sm.OLS(y, sm.add_constant(X))\n",
    "result = model.fit()\n",
    "print(result.summary())"
   ]
  },
  {
   "cell_type": "markdown",
   "metadata": {},
   "source": [
    "**Compare the output of the cell above to that of the cell below:** without other covariates in the regression model above, it is equivalent to the DiD estimator below which calculates the same value (i.e., the coefficient on `post_treatment`) just by subtracting means (i.e., calculating the \"difference in differences\")."
   ]
  },
  {
   "cell_type": "code",
   "execution_count": null,
   "metadata": {},
   "outputs": [],
   "source": [
    "# slice the dataset up into the 4 groups (pre/post, treatment/control)\n",
    "pre_treat = ~df['time'].astype(bool) & df['group'].astype(bool)\n",
    "pst_treat = df['time'].astype(bool) & df['group'].astype(bool)\n",
    "pre_cntrl = ~df['time'].astype(bool) & ~df['group'].astype(bool)\n",
    "pst_cntrl = df['time'].astype(bool) & ~df['group'].astype(bool)\n",
    "\n",
    "# then subtract their means\n",
    "col = df['tract_median_rent_sqft']\n",
    "did = (col[pst_treat].mean() - col[pre_treat].mean()) - (col[pst_cntrl].mean() - col[pre_cntrl].mean())\n",
    "round(did, 4)"
   ]
  },
  {
   "cell_type": "markdown",
   "metadata": {},
   "source": [
    "## DiD regression with covariates\n",
    "\n",
    "The regression framework is useful for DiD because it lets you include *covariates* and calculate *standard errors*. Adding covariates can 1) increase the power of the statistical tests and 2) improve identification by controlling other time-varying factors between the treatment and control groups that would otherwise violate the \"common trend\" assumption.\n",
    "\n",
    "Here we include covariates in the model: the DiD estimate changes only slightly, because in this example these covariates are uncorrelated with the response."
   ]
  },
  {
   "cell_type": "code",
   "execution_count": null,
   "metadata": {},
   "outputs": [],
   "source": [
    "# choose a response and predictors\n",
    "response = 'tract_median_rent_sqft'\n",
    "covariates = ['num_bedrooms', 'dist_to_transit']\n",
    "predictors = ['time', 'group', 'post_treatment'] + covariates\n",
    "\n",
    "# filter full dataset to retain only these columns and only rows without nulls in these columns\n",
    "data = df[[response] +  predictors].dropna()\n",
    "\n",
    "# create design matrix and response vector\n",
    "X = data[predictors]\n",
    "y = data[response]\n",
    "\n",
    "# estimate a simple linear regression model with OLS, using statsmodels\n",
    "model = sm.OLS(y, sm.add_constant(X))\n",
    "result = model.fit()\n",
    "print(result.summary())"
   ]
  },
  {
   "cell_type": "code",
   "execution_count": null,
   "metadata": {},
   "outputs": [],
   "source": []
  }
 ],
 "metadata": {
  "kernelspec": {
   "display_name": "Python (ppd599)",
   "language": "python",
   "name": "ppd599"
  },
  "language_info": {
   "codemirror_mode": {
    "name": "ipython",
    "version": 3
   },
   "file_extension": ".py",
   "mimetype": "text/x-python",
   "name": "python",
   "nbconvert_exporter": "python",
   "pygments_lexer": "ipython3",
   "version": "3.9.2"
  }
 },
 "nbformat": 4,
 "nbformat_minor": 4
}
